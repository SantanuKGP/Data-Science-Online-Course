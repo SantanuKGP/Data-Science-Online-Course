{
 "cells": [
  {
   "cell_type": "markdown",
   "id": "5bf6099b",
   "metadata": {},
   "source": [
    "Q1. Which keyword is used to create a function?\n",
    "Ans: def"
   ]
  },
  {
   "cell_type": "code",
   "execution_count": 15,
   "id": "faf9bc81",
   "metadata": {},
   "outputs": [],
   "source": [
    "def print_even_nums(x: int)-> list[int]:\n",
    "    return list(range(2,x+1,2))"
   ]
  },
  {
   "cell_type": "code",
   "execution_count": 16,
   "id": "01ebac53",
   "metadata": {},
   "outputs": [
    {
     "data": {
      "text/plain": [
       "[2, 4, 6, 8, 10, 12, 14, 16, 18, 20, 22, 24]"
      ]
     },
     "execution_count": 16,
     "metadata": {},
     "output_type": "execute_result"
    }
   ],
   "source": [
    "print_even_nums(25)"
   ]
  },
  {
   "cell_type": "markdown",
   "id": "b5be3277",
   "metadata": {},
   "source": [
    "Q2. Why *args and `**kwargs` is used in some functions? Create a function each for *args and `**kwargs` to\n",
    "demonstrate their use.\n",
    "Ans: We use *args and `**kwargs` as an argument when we are unsure about the number of arguments to pass in the functions."
   ]
  },
  {
   "cell_type": "code",
   "execution_count": 150,
   "id": "6b0d70ec",
   "metadata": {},
   "outputs": [
    {
     "name": "stdout",
     "output_type": "stream",
     "text": [
      "Give first name and last name. middle name is optional. Try again!\n",
      "Santanu Kundu\n",
      "Santanu Kumar Kundu\n"
     ]
    }
   ],
   "source": [
    "def fullname(*args, **kwargs):\n",
    "    name = \"\"\n",
    "    if len(args)!= 2:\n",
    "        name = \"Give first name and last name. middle name is optional. Try again!\"\n",
    "    elif kwargs.keys().__contains__('middle'):\n",
    "        name= args[0] + \" \" + kwargs['middle'] + ' ' + args[1]\n",
    "    else:\n",
    "        name= args[0] + ' ' + args[1]\n",
    "    return name\n",
    "\n",
    "print(fullname('Santanu'))\n",
    "print(fullname('Santanu','Kundu'))\n",
    "print(fullname('Santanu','Kundu', middle = 'Kumar'))"
   ]
  },
  {
   "cell_type": "markdown",
   "id": "b3e39b65",
   "metadata": {},
   "source": [
    "Q3. What is an iterator in python? Name the method used to initialise the iterator object and the method\n",
    "used for iteration. Use these methods to print the first five elements of the given list [2, 4, 6, 8, 10, 12, 14, 16,\n",
    "18, 20]."
   ]
  },
  {
   "cell_type": "markdown",
   "id": "bcbc6e8a",
   "metadata": {},
   "source": [
    "Ans: An iterator is an object that contains a countable number of values. An iterator is an object that can be iterated upon, meaning that we can traverse through all the values.\n",
    "Using `iter` we can make list into iterable object."
   ]
  },
  {
   "cell_type": "code",
   "execution_count": 36,
   "id": "0edef20a",
   "metadata": {},
   "outputs": [
    {
     "name": "stdout",
     "output_type": "stream",
     "text": [
      "2 4 6 8 10 "
     ]
    }
   ],
   "source": [
    "a = [2, 4, 6, 8, 10, 12, 14, 16, 18, 20]\n",
    "b = iter(a)\n",
    "for i in range(5):\n",
    "    print(next(b),end=\" \")"
   ]
  },
  {
   "cell_type": "markdown",
   "id": "0cb2dcf1",
   "metadata": {},
   "source": [
    "Q4. What is a generator function in python? Why yield keyword is used? Give an example of a generator\n",
    "function."
   ]
  },
  {
   "cell_type": "markdown",
   "id": "66021d5a",
   "metadata": {},
   "source": [
    "Ans: In Python, a generator is a function that returns an iterator that produces a sequence of values when iterated over.\n",
    "     `yield` keyword is used to create a generator function."
   ]
  },
  {
   "cell_type": "code",
   "execution_count": 43,
   "id": "7bb6b74f",
   "metadata": {},
   "outputs": [],
   "source": [
    "def fibonacci(n: int):\n",
    "    a, b = 1, 1\n",
    "    for i in range(n):\n",
    "        yield a\n",
    "        a , b = b, a+b"
   ]
  },
  {
   "cell_type": "code",
   "execution_count": 49,
   "id": "bb2dc8f3",
   "metadata": {},
   "outputs": [],
   "source": [
    "a = fibonacci(10)"
   ]
  },
  {
   "cell_type": "code",
   "execution_count": 50,
   "id": "003a5562",
   "metadata": {},
   "outputs": [
    {
     "data": {
      "text/plain": [
       "[1, 1, 2, 3, 5, 8, 13, 21, 34, 55]"
      ]
     },
     "execution_count": 50,
     "metadata": {},
     "output_type": "execute_result"
    }
   ],
   "source": [
    "[ i for i in a ]"
   ]
  },
  {
   "cell_type": "markdown",
   "id": "f1639fc5",
   "metadata": {},
   "source": [
    "Q5. Create a generator function for prime numbers less than 1000. Use the next() method to print the\n",
    "first 20 prime numbers."
   ]
  },
  {
   "cell_type": "code",
   "execution_count": 74,
   "id": "327e51e3",
   "metadata": {},
   "outputs": [],
   "source": [
    "# Question 05\n",
    "\n",
    "def prime_number(n: int):\n",
    "    prime_list = [2, 3]\n",
    "    def is_prime(ele: int)-> bool:\n",
    "        for i in prime_list:\n",
    "            if ele%i==0:\n",
    "                return False\n",
    "        return True\n",
    "    yield 2\n",
    "    yield 3\n",
    "    for i in range(6,n,6):\n",
    "        if is_prime(i-1):\n",
    "            prime_list.append(i-1)\n",
    "            yield i-1\n",
    "        if is_prime(i+1):\n",
    "            prime_list.append(i+1)\n",
    "            yield i+1\n",
    "    "
   ]
  },
  {
   "cell_type": "code",
   "execution_count": 135,
   "id": "c23d4e21",
   "metadata": {},
   "outputs": [
    {
     "data": {
      "text/plain": [
       "[2, 3]"
      ]
     },
     "execution_count": 135,
     "metadata": {},
     "output_type": "execute_result"
    }
   ],
   "source": [
    "a = prime_number(1000)\n",
    "b = [ next(a) for _ in range(2) ]\n",
    "b"
   ]
  },
  {
   "cell_type": "code",
   "execution_count": 121,
   "id": "c9566cce",
   "metadata": {},
   "outputs": [],
   "source": [
    "class PrimeNumber:\n",
    "    def __init__(self, n):\n",
    "        self.stop = n\n",
    "        self.start = 6\n",
    "        self.prime_list = [2, 3]\n",
    "    \n",
    "    def is_Prime(self, ele):\n",
    "        for i in self.prime_list:\n",
    "            if ele%i==0:\n",
    "                return False\n",
    "        return True\n",
    "    \n",
    "    def __iter__(self):\n",
    "        yield 2\n",
    "        yield 3\n",
    "        \n",
    "        while self.start <= self.start:\n",
    "            if self.is_Prime(self.start-1):\n",
    "                self.prime_list.append(i-1)\n",
    "                yield self.start-1\n",
    "\n",
    "            if self.is_Prime(self.start+1):\n",
    "                self.prime_list.append(i+1)\n",
    "                yield self.start+1\n",
    "            \n",
    "            self.start += 6"
   ]
  },
  {
   "cell_type": "code",
   "execution_count": 122,
   "id": "f7fce2b6",
   "metadata": {},
   "outputs": [
    {
     "data": {
      "text/plain": [
       "[2, 3, 5, 7, 11, 13, 17, 19, 23, 29, 31, 37, 41, 43, 47, 49, 53, 59, 61, 67]"
      ]
     },
     "execution_count": 122,
     "metadata": {},
     "output_type": "execute_result"
    }
   ],
   "source": [
    "a = iter(PrimeNumber(1000))\n",
    "b = [ next(a) for _ in range(20) ]\n",
    "b"
   ]
  },
  {
   "cell_type": "code",
   "execution_count": 132,
   "id": "156ee7e3",
   "metadata": {},
   "outputs": [
    {
     "data": {
      "text/plain": [
       "[2, 3, 5, 7, 11, 13, 17, 19, 23, 29, 31, 37, 41, 43, 47, 53, 59, 61, 67, 71]"
      ]
     },
     "execution_count": 132,
     "metadata": {},
     "output_type": "execute_result"
    }
   ],
   "source": [
    "class PrimeNumberList:\n",
    "    def __init__(self, n):\n",
    "        self.stop = n\n",
    "        self.start = 6\n",
    "        self.prime_list = [2, 3]\n",
    "    \n",
    "    def __is_Prime(self, ele):\n",
    "        for i in self.prime_list:\n",
    "            if ele%i==0:\n",
    "                return False\n",
    "        return True\n",
    "    \n",
    "    def __iter__(self):\n",
    "        yield 2\n",
    "        yield 3\n",
    "        \n",
    "        for i in range(6, self.stop, 6):\n",
    "            if self.__is_Prime(i-1):\n",
    "                self.prime_list.append(i-1)\n",
    "                yield i-1\n",
    "\n",
    "            if self.__is_Prime(i+1):\n",
    "                self.prime_list.append(i+1)\n",
    "                yield i+1\n",
    "\n",
    "\n",
    "a = iter(PrimeNumberList(1000))\n",
    "b = [ next(a) for _ in range(20)]\n",
    "b"
   ]
  },
  {
   "cell_type": "code",
   "execution_count": 134,
   "id": "1249a278",
   "metadata": {},
   "outputs": [
    {
     "data": {
      "text/plain": [
       "[2, 3, 5, 7, 11, 13, 17, 19, 23, 29, 31, 37, 41, 43, 47, 53, 59, 61, 67, 71]"
      ]
     },
     "execution_count": 134,
     "metadata": {},
     "output_type": "execute_result"
    }
   ],
   "source": [
    "c = PrimeNumberList(1000)\n",
    "d = iter(c)\n",
    "e = [ next(d) for _ in range(20)]\n",
    "c.prime_list"
   ]
  },
  {
   "cell_type": "markdown",
   "id": "9bad6a81",
   "metadata": {},
   "source": [
    "Added extra part for learning purpose"
   ]
  },
  {
   "cell_type": "code",
   "execution_count": 125,
   "id": "e2e513f7",
   "metadata": {},
   "outputs": [],
   "source": [
    "class MyClass:\n",
    "    def __init__(self, n):\n",
    "        self.val = n\n",
    "        self.alist = [ ]\n",
    "    def rec(self, y):\n",
    "        self.alist.append(y+10)\n",
    "        print(y+10)\n",
    "        \n",
    "    def func(self, x):\n",
    "        self.rec(x*10)\n",
    "        self.alist.append(self.val+x)\n",
    "        print(self.val+x)\n",
    "        print(self.alist)\n",
    "        "
   ]
  },
  {
   "cell_type": "code",
   "execution_count": 127,
   "id": "4a6026f9",
   "metadata": {},
   "outputs": [
    {
     "ename": "AttributeError",
     "evalue": "'MyClass' object has no attribute '__func'",
     "output_type": "error",
     "traceback": [
      "\u001b[1;31m---------------------------------------------------------------------------\u001b[0m",
      "\u001b[1;31mAttributeError\u001b[0m                            Traceback (most recent call last)",
      "\u001b[1;32m~\\AppData\\Local\\Temp\\ipykernel_17968\\537460283.py\u001b[0m in \u001b[0;36m<module>\u001b[1;34m\u001b[0m\n\u001b[0;32m      1\u001b[0m \u001b[0ma\u001b[0m \u001b[1;33m=\u001b[0m \u001b[0mMyClass\u001b[0m\u001b[1;33m(\u001b[0m\u001b[1;36m10\u001b[0m\u001b[1;33m)\u001b[0m\u001b[1;33m\u001b[0m\u001b[1;33m\u001b[0m\u001b[0m\n\u001b[1;32m----> 2\u001b[1;33m \u001b[0ma\u001b[0m\u001b[1;33m.\u001b[0m\u001b[0m__func\u001b[0m\u001b[1;33m(\u001b[0m\u001b[1;36m5\u001b[0m\u001b[1;33m)\u001b[0m\u001b[1;33m\u001b[0m\u001b[1;33m\u001b[0m\u001b[0m\n\u001b[0m",
      "\u001b[1;31mAttributeError\u001b[0m: 'MyClass' object has no attribute '__func'"
     ]
    }
   ],
   "source": [
    "a = MyClass(10)\n",
    "a.func(5)"
   ]
  },
  {
   "cell_type": "code",
   "execution_count": null,
   "id": "7705d495",
   "metadata": {},
   "outputs": [],
   "source": []
  },
  {
   "cell_type": "code",
   "execution_count": null,
   "id": "bb5b24b0",
   "metadata": {},
   "outputs": [],
   "source": []
  }
 ],
 "metadata": {
  "kernelspec": {
   "display_name": "Python 3 (ipykernel)",
   "language": "python",
   "name": "python3"
  },
  "language_info": {
   "codemirror_mode": {
    "name": "ipython",
    "version": 3
   },
   "file_extension": ".py",
   "mimetype": "text/x-python",
   "name": "python",
   "nbconvert_exporter": "python",
   "pygments_lexer": "ipython3",
   "version": "3.9.15"
  }
 },
 "nbformat": 4,
 "nbformat_minor": 5
}
